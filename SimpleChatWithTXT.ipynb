{
 "cells": [
  {
   "cell_type": "code",
   "execution_count": 26,
   "id": "b82c863c-b14d-423a-bbc2-71cd6d2a1c21",
   "metadata": {},
   "outputs": [
    {
     "name": "stderr",
     "output_type": "stream",
     "text": [
      "Created a chunk of size 292, which is longer than the specified 100\n",
      "Created a chunk of size 177, which is longer than the specified 100\n",
      "Created a chunk of size 234, which is longer than the specified 100\n",
      "Created a chunk of size 107, which is longer than the specified 100\n",
      "Created a chunk of size 333, which is longer than the specified 100\n",
      "Created a chunk of size 221, which is longer than the specified 100\n"
     ]
    },
    {
     "name": "stdout",
     "output_type": "stream",
     "text": [
      "[Document(page_content='One day, Reynard observed Cora perched high on a branch, holding a shiny piece of silver in her beak. Curious and intrigued, Reynard decided to put his cunning plan into action.', metadata={'source': 'fable.txt'}), Document(page_content='One day, Reynard observed Cora perched high on a branch, holding a shiny piece of silver in her beak. Curious and intrigued, Reynard decided to put his cunning plan into action.', metadata={'source': 'fable.txt'}), Document(page_content='One day, Reynard observed Cora perched high on a branch, holding a shiny piece of silver in her beak. Curious and intrigued, Reynard decided to put his cunning plan into action.', metadata={'source': 'fable.txt'}), Document(page_content='One day, Reynard observed Cora perched high on a branch, holding a shiny piece of silver in her beak. Curious and intrigued, Reynard decided to put his cunning plan into action.', metadata={'source': 'fable.txt'})]\n",
      "{'id': 'doc-0', 'snippet': 'One day, Reynard observed Cora perched high on a branch, holding a shiny piece of silver in her beak. Curious and intrigued, Reynard decided to put his cunning plan into action.'}\n",
      "\n",
      "\n",
      "One day, Reynard observed Cora perched high on a branch, holding a shiny piece of silver in her beak. Curious and intrigued, Reynard decided to put his cunning plan into action.\n",
      "\n",
      "\n",
      "------------------------------\n",
      "\n",
      "\n",
      "{'id': 'doc-1', 'snippet': 'One day, Reynard observed Cora perched high on a branch, holding a shiny piece of silver in her beak. Curious and intrigued, Reynard decided to put his cunning plan into action.'}\n",
      "\n",
      "\n",
      "One day, Reynard observed Cora perched high on a branch, holding a shiny piece of silver in her beak. Curious and intrigued, Reynard decided to put his cunning plan into action.\n",
      "\n",
      "\n",
      "------------------------------\n",
      "\n",
      "\n",
      "{'id': 'doc-2', 'snippet': 'One day, Reynard observed Cora perched high on a branch, holding a shiny piece of silver in her beak. Curious and intrigued, Reynard decided to put his cunning plan into action.'}\n",
      "\n",
      "\n",
      "One day, Reynard observed Cora perched high on a branch, holding a shiny piece of silver in her beak. Curious and intrigued, Reynard decided to put his cunning plan into action.\n",
      "\n",
      "\n",
      "------------------------------\n",
      "\n",
      "\n",
      "{'id': 'doc-3', 'snippet': 'One day, Reynard observed Cora perched high on a branch, holding a shiny piece of silver in her beak. Curious and intrigued, Reynard decided to put his cunning plan into action.'}\n",
      "\n",
      "\n",
      "One day, Reynard observed Cora perched high on a branch, holding a shiny piece of silver in her beak. Curious and intrigued, Reynard decided to put his cunning plan into action.\n",
      "\n",
      "\n",
      "------------------------------\n",
      "\n",
      "\n",
      "I'm unsure who or what Cora is, but if she was perched on a branch with a shiny piece of silver in her beak, it is likely that she is the corvid cousin of Reynard, the sly fox. \n",
      "\n",
      "Two different accounts of a story involving Cora and Reynard have conflicting information but both agree that Reynard was intrigued by Cora holding a shiny piece of silver, and that he acted out some sort of cunning plan.\n",
      "[{'start': 47, 'end': 107, 'text': 'perched on a branch with a shiny piece of silver in her beak', 'document_ids': ['doc-0', 'doc-1', 'doc-2', 'doc-3']}, {'start': 145, 'end': 176, 'text': 'cousin of Reynard, the sly fox.', 'document_ids': ['doc-0', 'doc-1', 'doc-2', 'doc-3']}, {'start': 179, 'end': 201, 'text': 'Two different accounts', 'document_ids': ['doc-0', 'doc-1', 'doc-2', 'doc-3']}, {'start': 289, 'end': 350, 'text': 'Reynard was intrigued by Cora holding a shiny piece of silver', 'document_ids': ['doc-0', 'doc-1', 'doc-2', 'doc-3']}, {'start': 364, 'end': 400, 'text': 'acted out some sort of cunning plan.', 'document_ids': ['doc-0', 'doc-1', 'doc-2', 'doc-3']}]\n"
     ]
    }
   ],
   "source": [
    "from langchain.retrievers import ContextualCompressionRetriever, CohereRagRetriever\n",
    "from langchain.retrievers.document_compressors import CohereRerank\n",
    "from langchain_community.embeddings import CohereEmbeddings\n",
    "from langchain_community.chat_models import ChatCohere\n",
    "from langchain.text_splitter import CharacterTextSplitter\n",
    "from langchain_community.document_loaders import TextLoader\n",
    "from langchain_community.vectorstores import Chroma\n",
    "\n",
    "user_query = \"Provide a simple answer: Who is Cora?\"\n",
    "# Create cohere's chat model and embeddings objects\n",
    "cohere_chat_model = ChatCohere()\n",
    "cohere_embeddings = CohereEmbeddings()\n",
    "# Load text files and split into chunks, you can also use data gathered elsewhere in your application\n",
    "raw_documents = TextLoader('fable.txt').load()\n",
    "text_splitter = CharacterTextSplitter(chunk_size=100, chunk_overlap=0)\n",
    "documents = text_splitter.split_documents(raw_documents)\n",
    "# Create a vector store from the documents\n",
    "db = Chroma.from_documents(documents, cohere_embeddings)\n",
    "input_docs = db.as_retriever().get_relevant_documents(user_query)\n",
    "\n",
    "print(input_docs)\n",
    "\n",
    "# Create the cohere rag retriever using the chat model \n",
    "rag = CohereRagRetriever(llm=cohere_chat_model)\n",
    "docs = rag.get_relevant_documents(\n",
    "    user_query,\n",
    "    source_documents=input_docs,\n",
    ")\n",
    "# Print the documents\n",
    "for doc in docs[:-1]:\n",
    "    print(doc.metadata)\n",
    "    print(\"\\n\\n\" + doc.page_content)\n",
    "    print(\"\\n\\n\" + \"-\" * 30 + \"\\n\\n\")\n",
    "# Print the final generation \n",
    "answer = docs[-1].page_content\n",
    "print(answer)\n",
    "# Print the final citations \n",
    "citations = docs[-1].metadata['citations']\n",
    "print(citations)"
   ]
  },
  {
   "cell_type": "code",
   "execution_count": 23,
   "id": "6d64956d-52fc-44a2-ab07-07b5f4435b59",
   "metadata": {},
   "outputs": [
    {
     "name": "stderr",
     "output_type": "stream",
     "text": [
      "Created a chunk of size 292, which is longer than the specified 100\n",
      "Created a chunk of size 177, which is longer than the specified 100\n",
      "Created a chunk of size 234, which is longer than the specified 100\n",
      "Created a chunk of size 107, which is longer than the specified 100\n",
      "Created a chunk of size 333, which is longer than the specified 100\n",
      "Created a chunk of size 221, which is longer than the specified 100\n"
     ]
    },
    {
     "name": "stdout",
     "output_type": "stream",
     "text": [
      "I could not find any information about Cora. \n",
      "Are you perhaps referring to the character Cora from the children's story Reynard the Fox? \n",
      "\n",
      "In this story, Cora is a crow who possesses a shiny piece of silver, which catches the eye of the cunning Reynard fox. \n",
      "Cora is typically portrayed perched on a branch with the silver item in her beak, perhaps dropping it, although this is unconfirmed in the sources I could find.\n"
     ]
    }
   ],
   "source": [
    "from langchain.retrievers import ContextualCompressionRetriever, CohereRagRetriever\n",
    "from langchain.retrievers.document_compressors import CohereRerank\n",
    "from langchain_community.embeddings import CohereEmbeddings\n",
    "from langchain_community.chat_models import ChatCohere\n",
    "from langchain.text_splitter import CharacterTextSplitter\n",
    "from langchain_community.document_loaders import TextLoader\n",
    "from langchain_community.vectorstores import Chroma\n",
    "\n",
    "user_query = \"Who is Cora?\"\n",
    "# Create cohere's chat model and embeddings objects\n",
    "cohere_chat_model = ChatCohere()\n",
    "cohere_embeddings = CohereEmbeddings()\n",
    "# Load text files and split into chunks, you can also use data gathered elsewhere in your application\n",
    "raw_documents = TextLoader('fable.txt').load()\n",
    "text_splitter = CharacterTextSplitter(chunk_size=100, chunk_overlap=0)\n",
    "documents = text_splitter.split_documents(raw_documents)\n",
    "# Create a vector store from the documents\n",
    "db = Chroma.from_documents(documents, cohere_embeddings)\n",
    "input_docs = db.as_retriever().get_relevant_documents(user_query)\n",
    "\n",
    "print(input_docs)\n",
    "\n",
    "# Create the cohere rag retriever using the chat model \n",
    "rag = CohereRagRetriever(llm=cohere_chat_model)\n",
    "docs = rag.get_relevant_documents(\n",
    "    user_query,\n",
    "    source_documents=input_docs,\n",
    ")\n",
    "# Print the documents\n",
    "for doc in docs[:-1]:\n",
    "    print(doc.metadata)\n",
    "    print(\"\\n\\n\" + doc.page_content)\n",
    "    print(\"\\n\\n\" + \"-\" * 30 + \"\\n\\n\")\n",
    "# Print the final generation \n",
    "answer = docs[-1].page_content\n",
    "print(answer)\n",
    "# Print the final citations \n",
    "citations = docs[-1].metadata['citations']\n",
    "print(citations)"
   ]
  },
  {
   "cell_type": "code",
   "execution_count": 3,
   "id": "99387f43-f115-4564-9cd6-8aeccb22f7c3",
   "metadata": {},
   "outputs": [],
   "source": [
    "# imports\n",
    "\n",
    "from langchain.vectorstores import Chroma\n",
    "from langchain.embeddings import SentenceTransformerEmbeddings, OpenAIEmbeddings, CohereEmbeddings\n",
    "from langchain.text_splitter import RecursiveCharacterTextSplitter\n",
    "from langchain.llms import Cohere\n",
    "from langchain.chains import VectorDBQA\n",
    "from langchain.document_loaders import TextLoader\n",
    "import os\n",
    "import dotenv"
   ]
  },
  {
   "cell_type": "code",
   "execution_count": 12,
   "id": "2968754e-7fea-4c60-acfd-fb3b7e015fb8",
   "metadata": {},
   "outputs": [
    {
     "data": {
      "text/plain": [
       "[Document(page_content='The Clever Fox and the Gullible Crow\\n\\nOnce upon a time, in the heart of the enchanted forest, there lived a clever fox named Reynard. Reynard was renowned for his wit and cunning ways, always outsmarting the other animals in the forest. However, there was one creature who seemed immune to his tricks – a gullible crow named Cora.\\n\\nOne day, Reynard observed Cora perched high on a branch, holding a shiny piece of silver in her beak. Curious and intrigued, Reynard decided to put his cunning plan into action.\\n\\nApproaching Cora with a sly grin, Reynard spoke, \"Oh, magnificent Cora, your feathers shimmer like the morning dew, and your voice is as melodious as a songbird. Surely, you must possess the most beautiful voice in the entire forest.\"\\n\\nCora, flattered by the fox\\'s words, puffed up her feathers with pride. \"Do you really think so?\" she asked.\\n\\nReynard, with a mischievous twinkle in his eye, continued, \"Indeed, dear Cora. I am convinced that your voice is so enchanting that it could rival the melodious nightingale. But to truly prove your vocal prowess, you must sing with all your heart and let the silver in your beak fall, for it may hinder the true beauty of your song.\"\\n\\nBelieving every word, Cora eagerly opened her beak to sing, releasing the silver piece. In the blink of an eye, Reynard snatched the shining prize and darted away into the forest, leaving Cora both songless and penniless.\\n\\nMoral of the Story: \"Beware the flattering words of those who seek to deceive, for sometimes, the sweetest melodies are played by the cleverest of thieves.\"\\n', metadata={'source': 'fable.txt'})]"
      ]
     },
     "execution_count": 12,
     "metadata": {},
     "output_type": "execute_result"
    }
   ],
   "source": [
    "# set up loader to load text document\n",
    "loader = TextLoader(\"fable.txt\")\n",
    "\n",
    "# load data from text file\n",
    "document = loader.load()\n",
    "document"
   ]
  },
  {
   "cell_type": "code",
   "execution_count": 9,
   "id": "6f3c45e7-4eba-44a0-8b82-dae40ee5ece0",
   "metadata": {},
   "outputs": [],
   "source": [
    "# set up splitter to split document into chunks\n",
    "splitter = RecursiveCharacterTextSplitter(\n",
    "    chunk_size=100,\n",
    "    chunk_overlap=0,\n",
    "    length_function=len,\n",
    ")\n",
    "\n",
    "# split text into chunks of text\n",
    "texts = splitter.split_documents(document)"
   ]
  },
  {
   "cell_type": "code",
   "execution_count": 10,
   "id": "9bcaaa25-f7ea-4742-9979-9390090996ad",
   "metadata": {},
   "outputs": [
    {
     "data": {
      "text/plain": [
       "[Document(page_content='The Clever Fox and the Gullible Crow', metadata={'source': 'fable.txt'}),\n",
       " Document(page_content='Once upon a time, in the heart of the enchanted forest, there lived a clever fox named Reynard.', metadata={'source': 'fable.txt'}),\n",
       " Document(page_content='Reynard was renowned for his wit and cunning ways, always outsmarting the other animals in the', metadata={'source': 'fable.txt'}),\n",
       " Document(page_content='forest. However, there was one creature who seemed immune to his tricks – a gullible crow named', metadata={'source': 'fable.txt'}),\n",
       " Document(page_content='Cora.', metadata={'source': 'fable.txt'}),\n",
       " Document(page_content='One day, Reynard observed Cora perched high on a branch, holding a shiny piece of silver in her', metadata={'source': 'fable.txt'}),\n",
       " Document(page_content='beak. Curious and intrigued, Reynard decided to put his cunning plan into action.', metadata={'source': 'fable.txt'}),\n",
       " Document(page_content='Approaching Cora with a sly grin, Reynard spoke, \"Oh, magnificent Cora, your feathers shimmer like', metadata={'source': 'fable.txt'}),\n",
       " Document(page_content='the morning dew, and your voice is as melodious as a songbird. Surely, you must possess the most', metadata={'source': 'fable.txt'}),\n",
       " Document(page_content='beautiful voice in the entire forest.\"', metadata={'source': 'fable.txt'}),\n",
       " Document(page_content='Cora, flattered by the fox\\'s words, puffed up her feathers with pride. \"Do you really think so?\"', metadata={'source': 'fable.txt'}),\n",
       " Document(page_content='she asked.', metadata={'source': 'fable.txt'}),\n",
       " Document(page_content='Reynard, with a mischievous twinkle in his eye, continued, \"Indeed, dear Cora. I am convinced that', metadata={'source': 'fable.txt'}),\n",
       " Document(page_content='your voice is so enchanting that it could rival the melodious nightingale. But to truly prove your', metadata={'source': 'fable.txt'}),\n",
       " Document(page_content='vocal prowess, you must sing with all your heart and let the silver in your beak fall, for it may', metadata={'source': 'fable.txt'}),\n",
       " Document(page_content='hinder the true beauty of your song.\"', metadata={'source': 'fable.txt'}),\n",
       " Document(page_content='Believing every word, Cora eagerly opened her beak to sing, releasing the silver piece. In the', metadata={'source': 'fable.txt'}),\n",
       " Document(page_content='blink of an eye, Reynard snatched the shining prize and darted away into the forest, leaving Cora', metadata={'source': 'fable.txt'}),\n",
       " Document(page_content='both songless and penniless.', metadata={'source': 'fable.txt'}),\n",
       " Document(page_content='Moral of the Story: \"Beware the flattering words of those who seek to deceive, for sometimes, the', metadata={'source': 'fable.txt'}),\n",
       " Document(page_content='sweetest melodies are played by the cleverest of thieves.\"', metadata={'source': 'fable.txt'})]"
      ]
     },
     "execution_count": 10,
     "metadata": {},
     "output_type": "execute_result"
    }
   ],
   "source": [
    "texts"
   ]
  },
  {
   "cell_type": "code",
   "execution_count": 6,
   "id": "93010a1c-89c4-4710-b621-ec2999c9bc57",
   "metadata": {},
   "outputs": [
    {
     "ename": "ValidationError",
     "evalue": "1 validation error for CohereEmbeddings\n__root__\n  Did not find cohere_api_key, please add an environment variable `COHERE_API_KEY` which contains it, or pass `cohere_api_key` as a named parameter. (type=value_error)",
     "output_type": "error",
     "traceback": [
      "\u001b[0;31m---------------------------------------------------------------------------\u001b[0m",
      "\u001b[0;31mValidationError\u001b[0m                           Traceback (most recent call last)",
      "Cell \u001b[0;32mIn[6], line 3\u001b[0m\n\u001b[1;32m      1\u001b[0m \u001b[38;5;66;03m# set up embeddings\u001b[39;00m\n\u001b[1;32m      2\u001b[0m \u001b[38;5;66;03m# embed_model = SentenceTransformerEmbeddings(model_name=\"all-MiniLM-L6-v2\")\u001b[39;00m\n\u001b[0;32m----> 3\u001b[0m embed_model \u001b[38;5;241m=\u001b[39m \u001b[43mCohereEmbeddings\u001b[49m\u001b[43m(\u001b[49m\u001b[43mmodel\u001b[49m\u001b[38;5;241;43m=\u001b[39;49m\u001b[38;5;124;43m\"\u001b[39;49m\u001b[38;5;124;43membed-english-light-v3.0\u001b[39;49m\u001b[38;5;124;43m\"\u001b[39;49m\u001b[43m)\u001b[49m\n\u001b[1;32m      4\u001b[0m \u001b[38;5;66;03m# embeddings = OpenAIEmbeddings\u001b[39;00m\n\u001b[1;32m      5\u001b[0m \n\u001b[1;32m      6\u001b[0m \u001b[38;5;66;03m# embeddings = embed_model.embed_documents(texts)\u001b[39;00m\n\u001b[1;32m      7\u001b[0m embeddings \u001b[38;5;241m=\u001b[39m [embed_model\u001b[38;5;241m.\u001b[39membed_documents(text\u001b[38;5;241m.\u001b[39mpage_content) \u001b[38;5;28;01mfor\u001b[39;00m text \u001b[38;5;129;01min\u001b[39;00m texts]\n",
      "File \u001b[0;32m~/Documents/AI Testing Ground/RAG-enabled-Chat/env/lib/python3.10/site-packages/pydantic/v1/main.py:341\u001b[0m, in \u001b[0;36mBaseModel.__init__\u001b[0;34m(__pydantic_self__, **data)\u001b[0m\n\u001b[1;32m    339\u001b[0m values, fields_set, validation_error \u001b[38;5;241m=\u001b[39m validate_model(__pydantic_self__\u001b[38;5;241m.\u001b[39m\u001b[38;5;18m__class__\u001b[39m, data)\n\u001b[1;32m    340\u001b[0m \u001b[38;5;28;01mif\u001b[39;00m validation_error:\n\u001b[0;32m--> 341\u001b[0m     \u001b[38;5;28;01mraise\u001b[39;00m validation_error\n\u001b[1;32m    342\u001b[0m \u001b[38;5;28;01mtry\u001b[39;00m:\n\u001b[1;32m    343\u001b[0m     object_setattr(__pydantic_self__, \u001b[38;5;124m'\u001b[39m\u001b[38;5;124m__dict__\u001b[39m\u001b[38;5;124m'\u001b[39m, values)\n",
      "\u001b[0;31mValidationError\u001b[0m: 1 validation error for CohereEmbeddings\n__root__\n  Did not find cohere_api_key, please add an environment variable `COHERE_API_KEY` which contains it, or pass `cohere_api_key` as a named parameter. (type=value_error)"
     ]
    }
   ],
   "source": [
    "# set up embeddings\n",
    "# embed_model = SentenceTransformerEmbeddings(model_name=\"all-MiniLM-L6-v2\")\n",
    "embed_model = CohereEmbeddings(model=\"embed-english-light-v3.0\")\n",
    "# embeddings = OpenAIEmbeddings\n",
    "\n",
    "# embeddings = embed_model.embed_documents(texts)\n",
    "embeddings = [embed_model.embed_documents(text.page_content) for text in texts]\n",
    "print(embeddings)\n",
    "\n",
    "# set up vector database\n",
    "# db = Chroma.from_documents(texts, embeddings)"
   ]
  },
  {
   "cell_type": "markdown",
   "id": "e485ab54-a325-4bad-a17c-d23bd30b5359",
   "metadata": {},
   "source": [
    "# Attempt 2"
   ]
  },
  {
   "cell_type": "code",
   "execution_count": 8,
   "id": "25cdf53e-5df7-4354-b714-818e7ca6fec3",
   "metadata": {},
   "outputs": [],
   "source": [
    "# imports\n",
    "\n",
    "from langchain.retrievers import ContextualCompressionRetriever, CohereRagRetriever\n",
    "from langchain.retrievers.document_compressors import CohereRerank\n",
    "from langchain_community.embeddings import CohereEmbeddings\n",
    "from langchain_community.chat_models import ChatCohere\n",
    "from langchain.llms import Cohere\n",
    "from langchain.text_splitter import CharacterTextSplitter, RecursiveCharacterTextSplitter\n",
    "from langchain_community.document_loaders import TextLoader\n",
    "from langchain_community.vectorstores import Chroma\n",
    "from langchain import hub\n",
    "import os\n",
    "import dotenv"
   ]
  },
  {
   "cell_type": "code",
   "execution_count": 9,
   "id": "738e0bd6-5dce-4b91-b519-baf37b624b11",
   "metadata": {},
   "outputs": [],
   "source": [
    "# API keys\n",
    "\n",
    "dotenv.load_dotenv()\n",
    "\n",
    "os.environ[\"COHERE_API_KEY\"] = os.getenv(\"COHERE_API_KEY\")"
   ]
  },
  {
   "cell_type": "code",
   "execution_count": 10,
   "id": "2fe23712-6f77-49f2-a583-d0c65655e24d",
   "metadata": {},
   "outputs": [
    {
     "name": "stdout",
     "output_type": "stream",
     "text": [
      "Original docs:\n",
      "[Document(page_content='The Clever Fox and the Gullible Crow\\n\\nOnce upon a time, in the heart of the enchanted forest, there lived a clever fox named Reynard. Reynard was renowned for his wit and cunning ways, always outsmarting the other animals in the forest. However, there was one creature who seemed immune to his tricks – a gullible crow named Cora.\\n\\nOne day, Reynard observed Cora perched high on a branch, holding a shiny piece of silver in her beak. Curious and intrigued, Reynard decided to put his cunning plan into action.\\n\\nApproaching Cora with a sly grin, Reynard spoke, \"Oh, magnificent Cora, your feathers shimmer like the morning dew, and your voice is as melodious as a songbird. Surely, you must possess the most beautiful voice in the entire forest.\"\\n\\nCora, flattered by the fox\\'s words, puffed up her feathers with pride. \"Do you really think so?\" she asked.\\n\\nReynard, with a mischievous twinkle in his eye, continued, \"Indeed, dear Cora. I am convinced that your voice is so enchanting that it could rival the melodious nightingale. But to truly prove your vocal prowess, you must sing with all your heart and let the silver in your beak fall, for it may hinder the true beauty of your song.\"\\n\\nBelieving every word, Cora eagerly opened her beak to sing, releasing the silver piece. In the blink of an eye, Reynard snatched the shining prize and darted away into the forest, leaving Cora both songless and penniless.\\n\\nMoral of the Story: \"Beware the flattering words of those who seek to deceive, for sometimes, the sweetest melodies are played by the cleverest of thieves.\"\\n', metadata={'source': 'fable.txt'})]\n"
     ]
    }
   ],
   "source": [
    "# load data from text file\n",
    "docs = TextLoader('fable.txt').load()\n",
    "print(f\"Original docs:\")\n",
    "print(docs)"
   ]
  },
  {
   "cell_type": "code",
   "execution_count": 11,
   "id": "02707579-370f-4a3c-be93-94b8c7f44b6c",
   "metadata": {},
   "outputs": [
    {
     "name": "stdout",
     "output_type": "stream",
     "text": [
      "Split docs:\n",
      "[Document(page_content='The Clever Fox and the Gullible Crow', metadata={'source': 'fable.txt'}), Document(page_content='Once upon a time, in the heart of the enchanted forest, there lived a clever fox named Reynard. Reynard was renowned for his wit and cunning ways, always outsmarting the other animals in the forest.', metadata={'source': 'fable.txt'}), Document(page_content='However, there was one creature who seemed immune to his tricks – a gullible crow named Cora.', metadata={'source': 'fable.txt'}), Document(page_content='One day, Reynard observed Cora perched high on a branch, holding a shiny piece of silver in her beak. Curious and intrigued, Reynard decided to put his cunning plan into action.', metadata={'source': 'fable.txt'}), Document(page_content='Approaching Cora with a sly grin, Reynard spoke, \"Oh, magnificent Cora, your feathers shimmer like the morning dew, and your voice is as melodious as a songbird. Surely, you must possess the most', metadata={'source': 'fable.txt'}), Document(page_content='beautiful voice in the entire forest.\"', metadata={'source': 'fable.txt'}), Document(page_content='Cora, flattered by the fox\\'s words, puffed up her feathers with pride. \"Do you really think so?\" she asked.', metadata={'source': 'fable.txt'}), Document(page_content='Reynard, with a mischievous twinkle in his eye, continued, \"Indeed, dear Cora. I am convinced that your voice is so enchanting that it could rival the melodious nightingale. But to truly prove your', metadata={'source': 'fable.txt'}), Document(page_content='vocal prowess, you must sing with all your heart and let the silver in your beak fall, for it may hinder the true beauty of your song.\"', metadata={'source': 'fable.txt'}), Document(page_content='Believing every word, Cora eagerly opened her beak to sing, releasing the silver piece. In the blink of an eye, Reynard snatched the shining prize and darted away into the forest, leaving Cora both', metadata={'source': 'fable.txt'}), Document(page_content='songless and penniless.', metadata={'source': 'fable.txt'}), Document(page_content='Moral of the Story: \"Beware the flattering words of those who seek to deceive, for sometimes, the sweetest melodies are played by the cleverest of thieves.\"', metadata={'source': 'fable.txt'})]\n"
     ]
    }
   ],
   "source": [
    "# setup text splitter to break docs into chunks\n",
    "splitter = RecursiveCharacterTextSplitter(\n",
    "    chunk_size=200,\n",
    "    chunk_overlap=0,\n",
    "    length_function=len,\n",
    ")\n",
    "\n",
    "# separate docs into chunks for vector storage\n",
    "split_docs = splitter.split_documents(docs)\n",
    "print(f\"Split docs:\")\n",
    "print(split_docs)"
   ]
  },
  {
   "cell_type": "code",
   "execution_count": 12,
   "id": "7f118a60-81ec-4675-a606-7a6743d3df3f",
   "metadata": {},
   "outputs": [
    {
     "name": "stdout",
     "output_type": "stream",
     "text": [
      "[Document(page_content='Once upon a time, in the heart of the enchanted forest, there lived a clever fox named Reynard. Reynard was renowned for his wit and cunning ways, always outsmarting the other animals in the forest.', metadata={'source': 'fable.txt'}), Document(page_content='One day, Reynard observed Cora perched high on a branch, holding a shiny piece of silver in her beak. Curious and intrigued, Reynard decided to put his cunning plan into action.', metadata={'source': 'fable.txt'}), Document(page_content='Reynard, with a mischievous twinkle in his eye, continued, \"Indeed, dear Cora. I am convinced that your voice is so enchanting that it could rival the melodious nightingale. But to truly prove your', metadata={'source': 'fable.txt'}), Document(page_content='Approaching Cora with a sly grin, Reynard spoke, \"Oh, magnificent Cora, your feathers shimmer like the morning dew, and your voice is as melodious as a songbird. Surely, you must possess the most', metadata={'source': 'fable.txt'})]\n"
     ]
    }
   ],
   "source": [
    "# setup Chroma vector database\n",
    "db = Chroma.from_documents(\n",
    "    documents=split_docs,\n",
    "    embedding=CohereEmbeddings()\n",
    ")\n",
    "\n",
    "# setup retriever for similarity search of vector database\n",
    "retriever = db.as_retriever()\n",
    "\n",
    "# retrieve docs to check whether embedding, storage and retrieval works as expected\n",
    "retrieved_docs = retriever.invoke(\"What type of an animal is Reynard?\")\n",
    "print(retrieved_docs)"
   ]
  },
  {
   "cell_type": "code",
   "execution_count": 13,
   "id": "bbb28e46-0776-4bed-a3e3-a211a2ec8631",
   "metadata": {},
   "outputs": [],
   "source": [
    "# setup large language model to be used\n",
    "llm = Cohere(model=\"command-xlarge-nightly\", temperature=0.5, max_tokens=800, k=0, p=1)\n",
    "\n",
    "# setup prompt from LangSmith\n",
    "prompt = hub.pull(\"rlm/rag-prompt\")"
   ]
  },
  {
   "cell_type": "code",
   "execution_count": 14,
   "id": "3abc854d-00ce-47ad-bfbd-c17638abc857",
   "metadata": {},
   "outputs": [],
   "source": [
    "# setup RAG chain with LCEL Runnable protocol\n",
    "from langchain_core.output_parsers import StrOutputParser\n",
    "from langchain_core.runnables import RunnablePassthrough\n",
    "\n",
    "def format_docs(docs):\n",
    "    return \"\\n\\n\".join(doc.page_content for doc in docs)\n",
    "\n",
    "rag_chain = (\n",
    "    {\"context\": retriever | format_docs, \"question\": RunnablePassthrough()}\n",
    "    | prompt\n",
    "    | llm\n",
    "    | StrOutputParser()\n",
    ")"
   ]
  },
  {
   "cell_type": "code",
   "execution_count": 15,
   "id": "c3d141e2-44ec-4182-a0d5-e64b6dff05a6",
   "metadata": {},
   "outputs": [
    {
     "name": "stdout",
     "output_type": "stream",
     "text": [
      " Fox"
     ]
    }
   ],
   "source": [
    "# stream generation from chain\n",
    "for chunk in rag_chain.stream(\"What type of an animal is Reynard? Answer in a single word.\"):\n",
    "    print(chunk, end=\"\", flush=True)"
   ]
  }
 ],
 "metadata": {
  "kernelspec": {
   "display_name": "Python 3 (ipykernel)",
   "language": "python",
   "name": "python3"
  },
  "language_info": {
   "codemirror_mode": {
    "name": "ipython",
    "version": 3
   },
   "file_extension": ".py",
   "mimetype": "text/x-python",
   "name": "python",
   "nbconvert_exporter": "python",
   "pygments_lexer": "ipython3",
   "version": "3.10.12"
  }
 },
 "nbformat": 4,
 "nbformat_minor": 5
}
